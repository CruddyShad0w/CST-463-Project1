{
 "cells": [
  {
   "cell_type": "code",
   "execution_count": null,
   "metadata": {
    "colab": {},
    "colab_type": "code",
    "id": "KPfnWsVwmZtk"
   },
   "outputs": [],
   "source": [
    "import pandas as pd\n",
    "import numpy as np\n",
    "import seaborn as sns\n",
    "import matplotlib.pyplot as plt"
   ]
  },
  {
   "cell_type": "code",
   "execution_count": null,
   "metadata": {
    "colab": {},
    "colab_type": "code",
    "id": "KqpBXMnA1t4U"
   },
   "outputs": [],
   "source": [
    "import warnings\n",
    "warnings.simplefilter(action='ignore', category=FutureWarning)\n",
    "warnings.simplefilter(action='ignore', category=DeprecationWarning)"
   ]
  },
  {
   "cell_type": "markdown",
   "metadata": {
    "colab_type": "text",
    "id": "yPVljS2mmZt2"
   },
   "source": [
    "# Predicting Credit Default.\n",
    "#### Identifying risky credit patterns\n",
    "\n",
    "We'll be analysing credit card data, collected in Taiwan (link below). Trying to predict patterns that lead to defaulting on credit. Various Machine Learning methods will be applied to the dataset. We will also try to derive some features to help our predictions. The 'real world' applications of these methods will be considered throughout our report. Balancing performance with predictive power will be a consideration throughout the report. \n",
    "\n",
    "https://archive.ics.uci.edu/ml/datasets/default+of+credit+card+clients"
   ]
  },
  {
   "cell_type": "markdown",
   "metadata": {
    "colab_type": "text",
    "id": "uEnm1Mb6mZt7"
   },
   "source": [
    "### Definitions:\n",
    "**Default:** After you’ve failed to make a payment on your credit card for 180 days, your issuer assumes you’re probably never going to. At this point, the issuer can (and usually does) close your card, write off what you owe as bad debt and sell your account to a collections agency."
   ]
  },
  {
   "cell_type": "code",
   "execution_count": null,
   "metadata": {
    "colab": {
     "base_uri": "https://localhost:8080/",
     "height": 252
    },
    "colab_type": "code",
    "executionInfo": {
     "elapsed": 614,
     "status": "ok",
     "timestamp": 1539810817639,
     "user": {
      "displayName": "Kyle Hays",
      "photoUrl": "",
      "userId": "01076447387379991295"
     },
     "user_tz": 420
    },
    "id": "4BM_SrRSmZuA",
    "outputId": "10e855f0-8c98-411c-b1e2-c552e9961290"
   },
   "outputs": [],
   "source": [
    "df = pd.read_csv(\"default_cc_train.csv\", sep=',')\n",
    "df.head()"
   ]
  },
  {
   "cell_type": "code",
   "execution_count": null,
   "metadata": {
    "colab": {
     "base_uri": "https://localhost:8080/",
     "height": 683
    },
    "colab_type": "code",
    "executionInfo": {
     "elapsed": 1099,
     "status": "ok",
     "timestamp": 1539810819367,
     "user": {
      "displayName": "Kyle Hays",
      "photoUrl": "",
      "userId": "01076447387379991295"
     },
     "user_tz": 420
    },
    "id": "rgprmh7ymZuS",
    "outputId": "90378561-ac9c-4c8b-b437-42f71c942151"
   },
   "outputs": [],
   "source": [
    "corr = df.corr()\n",
    "mask = np.zeros_like(corr,dtype=np.bool)\n",
    "f, ax = plt.subplots(figsize=(11, 9))\n",
    "cmap = sns.diverging_palette(220, 10, as_cmap=True)\n",
    "sns.heatmap(corr, mask=mask, cmap=cmap, vmax=.3, center=0, square=True,\n",
    "            linewidths=.5, cbar_kws={\"shrink\": .5})\n",
    "plt.title('Correlation of features')"
   ]
  },
  {
   "cell_type": "code",
   "execution_count": null,
   "metadata": {
    "colab": {
     "base_uri": "https://localhost:8080/",
     "height": 550
    },
    "colab_type": "code",
    "executionInfo": {
     "elapsed": 432,
     "status": "ok",
     "timestamp": 1539810829003,
     "user": {
      "displayName": "Kyle Hays",
      "photoUrl": "",
      "userId": "01076447387379991295"
     },
     "user_tz": 420
    },
    "id": "VYQM5WzPmZui",
    "outputId": "bd4c18c4-7fb3-4bb4-c30d-1b2896e94478"
   },
   "outputs": [],
   "source": [
    "df.info()\n",
    "print(\"Shape: \",df.shape)"
   ]
  },
  {
   "cell_type": "markdown",
   "metadata": {
    "colab_type": "text",
    "id": "-f9OugqymZuv"
   },
   "source": [
    "Looks like its a full 25000 rows with no null values. Does not look like any data cleaning will be needed only scaling and preprocessing."
   ]
  },
  {
   "cell_type": "code",
   "execution_count": null,
   "metadata": {
    "colab": {
     "base_uri": "https://localhost:8080/",
     "height": 393
    },
    "colab_type": "code",
    "executionInfo": {
     "elapsed": 627,
     "status": "ok",
     "timestamp": 1539810833908,
     "user": {
      "displayName": "Kyle Hays",
      "photoUrl": "",
      "userId": "01076447387379991295"
     },
     "user_tz": 420
    },
    "id": "8Rn3dWSgmZuy",
    "outputId": "23d803a1-1dfe-45bb-d0fa-bcb44f46b116",
    "scrolled": false
   },
   "outputs": [],
   "source": [
    "sns.countplot(df['default.payment.next.month'])\n",
    "plt.title('Histogram of payment defaults')\n",
    "plt.xticks((0,1),('Default','Good Standing'))\n",
    "plt.xlabel('Default payments')"
   ]
  },
  {
   "cell_type": "code",
   "execution_count": null,
   "metadata": {
    "colab": {
     "base_uri": "https://localhost:8080/",
     "height": 34
    },
    "colab_type": "code",
    "executionInfo": {
     "elapsed": 446,
     "status": "ok",
     "timestamp": 1539810838824,
     "user": {
      "displayName": "Kyle Hays",
      "photoUrl": "",
      "userId": "01076447387379991295"
     },
     "user_tz": 420
    },
    "id": "uC2HLzl_mZu9",
    "outputId": "8a599377-f07b-4e56-ead2-b3088f5e72b6"
   },
   "outputs": [],
   "source": [
    "print( 'Percentage of default: '+ str(100*len(df[df['default.payment.next.month'] ==1]) / len(df) ))"
   ]
  },
  {
   "cell_type": "markdown",
   "metadata": {
    "colab_type": "text",
    "id": "8VpT8lR5mZvS"
   },
   "source": [
    "About one in every 3.5-4 people will end up defaulting. "
   ]
  },
  {
   "cell_type": "code",
   "execution_count": null,
   "metadata": {
    "colab": {
     "base_uri": "https://localhost:8080/",
     "height": 378
    },
    "colab_type": "code",
    "executionInfo": {
     "elapsed": 528,
     "status": "ok",
     "timestamp": 1539810839669,
     "user": {
      "displayName": "Kyle Hays",
      "photoUrl": "",
      "userId": "01076447387379991295"
     },
     "user_tz": 420
    },
    "id": "jsuAEjCjmZva",
    "outputId": "085aabda-8ab0-4256-e308-2e11ce2cd469"
   },
   "outputs": [],
   "source": [
    "sns.distplot(df['AGE'])"
   ]
  },
  {
   "cell_type": "markdown",
   "metadata": {
    "colab_type": "text",
    "id": "IX8Zh5_ZmZvq"
   },
   "source": [
    "Interesting distribution here, large concentrations around 28, 35, 43, and 52"
   ]
  },
  {
   "cell_type": "code",
   "execution_count": null,
   "metadata": {
    "colab": {
     "base_uri": "https://localhost:8080/",
     "height": 561
    },
    "colab_type": "code",
    "executionInfo": {
     "elapsed": 535,
     "status": "ok",
     "timestamp": 1539810840987,
     "user": {
      "displayName": "Kyle Hays",
      "photoUrl": "",
      "userId": "01076447387379991295"
     },
     "user_tz": 420
    },
    "id": "ngzIoUDumZvv",
    "outputId": "3b8e67e3-0df0-4891-c7dc-d6cabfc91fcd"
   },
   "outputs": [],
   "source": [
    "sns.countplot('EDUCATION',hue='default.payment.next.month',data=df)\n",
    "plt.title('Educational Distribution')\n",
    "plt.xlabel('Maximum Level of Education')\n",
    "L = plt.legend(title='Default')\n",
    "L.get_texts()[0].set_text('No')\n",
    "L.get_texts()[1].set_text('Yes')\n",
    "plt.xticks((0,1,2,3,4,5,6),('<12 grade','graduate school','university','high school','other','trade school','Not disclosed'),rotation=45)"
   ]
  },
  {
   "cell_type": "markdown",
   "metadata": {
    "colab_type": "text",
    "id": "ntx_bkVsmZv5"
   },
   "source": [
    "Our debtors are mostly educated people. There appears to be no significance in the relationship between education and defaulting on your credit card. "
   ]
  },
  {
   "cell_type": "code",
   "execution_count": null,
   "metadata": {
    "colab": {
     "base_uri": "https://localhost:8080/",
     "height": 431
    },
    "colab_type": "code",
    "executionInfo": {
     "elapsed": 519,
     "status": "ok",
     "timestamp": 1539810845007,
     "user": {
      "displayName": "Kyle Hays",
      "photoUrl": "",
      "userId": "01076447387379991295"
     },
     "user_tz": 420
    },
    "id": "wQ9isD9vmZv7",
    "outputId": "dc12c172-c25c-4c65-c1cc-b4d03afdd098"
   },
   "outputs": [],
   "source": [
    "#mar_map = {0:'Not Provided',1:'Married',2:'Single',3:'Unknown'}\n",
    "#mar_status = [mar_map[stat] for stat in df['MARRIAGE']]\n",
    "sns.countplot('MARRIAGE', hue='default.payment.next.month',data=df)\n",
    "plt.xticks((0,1,2,3),('Not Provided','Married','Single','Unknown'),rotation=45)\n",
    "L = plt.legend(title='Default')\n",
    "L.get_texts()[0].set_text('No')\n",
    "L.get_texts()[1].set_text('Yes')\n",
    "plt.title('Relationship Status')"
   ]
  },
  {
   "cell_type": "markdown",
   "metadata": {
    "colab_type": "text",
    "id": "wpAb4gfgmZwN"
   },
   "source": [
    "A greater percentage of married people end up defaulting on their debt. One would suspect otherwise, with the additional responsibility and future planning that usually comes with marriage. But perhaps single people have fewer financial burdens, like children, and are less likely to overextend themselves financially. "
   ]
  },
  {
   "cell_type": "code",
   "execution_count": null,
   "metadata": {
    "colab": {
     "base_uri": "https://localhost:8080/",
     "height": 400
    },
    "colab_type": "code",
    "executionInfo": {
     "elapsed": 1608,
     "status": "ok",
     "timestamp": 1539810846825,
     "user": {
      "displayName": "Kyle Hays",
      "photoUrl": "",
      "userId": "01076447387379991295"
     },
     "user_tz": 420
    },
    "id": "iYGaCIJQmZwR",
    "outputId": "e1557018-cc94-4c47-f3d8-abfaf1f82f07"
   },
   "outputs": [],
   "source": [
    "plot = sns.countplot(df['LIMIT_BAL'],hue = df['default.payment.next.month'])\n",
    "plot.set_xticks(plot.get_xticks()[::5])\n",
    "plot = plt.xticks(rotation=90)\n",
    "plt.title('Histogram of Credit Limit Balances')\n",
    "L = plt.legend(title='Default')\n",
    "L.get_texts()[0].set_text('No')\n",
    "L.get_texts()[1].set_text('Yes')"
   ]
  },
  {
   "cell_type": "markdown",
   "metadata": {
    "colab_type": "text",
    "id": "fc6f2p7NmZwZ"
   },
   "source": [
    "Kind of a hard figure to see but shows the reationship between a persons balance limit and thier defualt. Generally a higher percentage of people with lower limit balances will end up defaulting. If you're a 'high risk' applicant the bank usually will only approve you for a smaller line of credit. This graph might help show why that is. "
   ]
  },
  {
   "cell_type": "code",
   "execution_count": null,
   "metadata": {
    "colab": {
     "base_uri": "https://localhost:8080/",
     "height": 379
    },
    "colab_type": "code",
    "executionInfo": {
     "elapsed": 824,
     "status": "ok",
     "timestamp": 1539810847674,
     "user": {
      "displayName": "Kyle Hays",
      "photoUrl": "",
      "userId": "01076447387379991295"
     },
     "user_tz": 420
    },
    "id": "V3FVGS92mZwe",
    "outputId": "0f54daf1-ded1-4fcc-c8cd-9f1868252c31"
   },
   "outputs": [],
   "source": [
    "default_labs = {0:'Good Standing',1:'Default'}\n",
    "default = [default_labs[x] for x in df['default.payment.next.month']]\n",
    "sns.violinplot(x=default, y='LIMIT_BAL',data=df)\n",
    "plt.title(\"Limit Balance and default distribution\")"
   ]
  },
  {
   "cell_type": "markdown",
   "metadata": {
    "colab_type": "text",
    "id": "qEygpdQImZwp"
   },
   "source": [
    "Perhaps not very surprisingly, people with higher limit balances are less likely to to be defaulting. The defaulters had a lower average credit limit. Likely they already had a lower credit score to begin with. "
   ]
  },
  {
   "cell_type": "code",
   "execution_count": null,
   "metadata": {
    "colab": {
     "base_uri": "https://localhost:8080/",
     "height": 379
    },
    "colab_type": "code",
    "executionInfo": {
     "elapsed": 1044,
     "status": "ok",
     "timestamp": 1539810848857,
     "user": {
      "displayName": "Kyle Hays",
      "photoUrl": "",
      "userId": "01076447387379991295"
     },
     "user_tz": 420
    },
    "id": "mfpgQqUzmZws",
    "outputId": "fee83aba-f293-4393-b058-1d4616f6f477"
   },
   "outputs": [],
   "source": [
    "sns.violinplot('default.payment.next.month', y='AGE',data=df)\n",
    "plt.title('Default behavior by age distribution')\n",
    "plt.xticks((0,1),('Default','Good Standing'))\n",
    "plt.xlabel('')"
   ]
  },
  {
   "cell_type": "markdown",
   "metadata": {
    "colab_type": "text",
    "id": "l7-55YVkmZxQ"
   },
   "source": [
    "Almost no difference at all in age distributions between defaulters and not. A little surprising actually. One would imagine younger people defaulting more. "
   ]
  },
  {
   "cell_type": "markdown",
   "metadata": {
    "colab_type": "text",
    "id": "b1aXPoNSmZxX"
   },
   "source": [
    "#### Bill amounts\n",
    "According to the correlation plot above, the most significant features for predicting default payments will be the BILL_AMT fields. Let's visualize a couple to see what we can infer from them"
   ]
  },
  {
   "cell_type": "code",
   "execution_count": null,
   "metadata": {
    "colab": {
     "base_uri": "https://localhost:8080/",
     "height": 393
    },
    "colab_type": "code",
    "executionInfo": {
     "elapsed": 515,
     "status": "ok",
     "timestamp": 1539810850316,
     "user": {
      "displayName": "Kyle Hays",
      "photoUrl": "",
      "userId": "01076447387379991295"
     },
     "user_tz": 420
    },
    "id": "o5UFmPu3mZxb",
    "outputId": "d7a94dc2-eb5f-488f-c104-7129bd5c2b59"
   },
   "outputs": [],
   "source": [
    "sns.distplot(df['BILL_AMT1'])\n",
    "plt.title('Distribution of Bill Amounts in month 1')\n",
    "plt.xlabel('Money Owed')"
   ]
  },
  {
   "cell_type": "markdown",
   "metadata": {
    "colab_type": "text",
    "id": "ZTUqPjuDmZxs"
   },
   "source": [
    "A very steep distirbution toward the lowerd end of money owed. Is this the general pattern this data will follow? Lets look at another month to be sure."
   ]
  },
  {
   "cell_type": "code",
   "execution_count": null,
   "metadata": {
    "colab": {
     "base_uri": "https://localhost:8080/",
     "height": 393
    },
    "colab_type": "code",
    "executionInfo": {
     "elapsed": 573,
     "status": "ok",
     "timestamp": 1539810851624,
     "user": {
      "displayName": "Kyle Hays",
      "photoUrl": "",
      "userId": "01076447387379991295"
     },
     "user_tz": 420
    },
    "id": "QKMkOJGsmZxu",
    "outputId": "c38f5577-b990-4812-d42b-4cccb475124c"
   },
   "outputs": [],
   "source": [
    "sns.distplot(df['BILL_AMT6'])\n",
    "plt.title('Distribution of Bill Amounts in month 6')\n",
    "plt.xlabel('Money Owed')\n",
    "plt.xlim((-50000,600000))"
   ]
  },
  {
   "cell_type": "markdown",
   "metadata": {
    "colab_type": "text",
    "id": "W5xS9h9kmZyA"
   },
   "source": [
    "Almost exactly the same. This seems to make sense. Most people won't want ot have too much debt. The vast majority of people have debt below about 50,000 (not sure if this is measured in Dollars or Yen. "
   ]
  },
  {
   "cell_type": "code",
   "execution_count": null,
   "metadata": {
    "colab": {
     "base_uri": "https://localhost:8080/",
     "height": 393
    },
    "colab_type": "code",
    "executionInfo": {
     "elapsed": 479,
     "status": "ok",
     "timestamp": 1539810853286,
     "user": {
      "displayName": "Kyle Hays",
      "photoUrl": "",
      "userId": "01076447387379991295"
     },
     "user_tz": 420
    },
    "id": "3d8_GLbEmZyH",
    "outputId": "a4042f9e-b5ae-4bf5-935d-81e29e765471"
   },
   "outputs": [],
   "source": [
    "sns.countplot(x='PAY_2', hue = 'default.payment.next.month' , data = df)\n",
    "plt.title('Defaults by payment status')\n",
    "plt.xlabel('Payment Status')"
   ]
  },
  {
   "cell_type": "markdown",
   "metadata": {
    "colab_type": "text",
    "id": "4CQHm_SXmZyb"
   },
   "source": [
    "Not everyone that pays on time, or is paid up in a given month is guaranteed not to default. But for the folks that are already a few months late, it looks like you're more likely to end up in default than you are to end up paying off your debt. As we saw earlier in the correlation plot, payment status will be a very strong predictor of default."
   ]
  },
  {
   "cell_type": "markdown",
   "metadata": {
    "colab_type": "text",
    "id": "SSTHDhk9mZyd"
   },
   "source": [
    "### Derived Features: \n",
    "#### To add or not to add?\n",
    "Our team played with a few strategies to sythesize some more features. Some features tested were: ratio of money owed to total balance, sum off amounts owed across each month, as well as a couple others trying to get something more meaningful out of the 'limit balance', 'pay amount' and 'bill amount'. Below is some featur engineering we've done, and through this we've managed to bump our average predictions up a couple %. No revolutionary gains, but something is better than nothing. "
   ]
  },
  {
   "cell_type": "code",
   "execution_count": null,
   "metadata": {
    "colab": {},
    "colab_type": "code",
    "id": "2IAEg6_K2gus"
   },
   "outputs": [],
   "source": [
    "\"\"\"\n",
    "Transformer class for the\n",
    "    [default of credit card clients]\n",
    "    (https://archive.ics.uci.edu/ml/datasets/default+of+credit+card+clients)\n",
    "Data Set.\n",
    "\n",
    "Usage:\n",
    "    import preprocessing\n",
    "    transformer = preprocessing.Transformer()\n",
    "    X_train = transformer.fit_transform(df_train)\n",
    "    X_test = transformer.transform(df_test)\n",
    "\"\"\"\n",
    "import numpy as np\n",
    "import pandas as pd\n",
    "from sklearn.base import TransformerMixin\n",
    "from sklearn.pipeline import Pipeline, FeatureUnion\n",
    "from sklearn.preprocessing import StandardScaler, OneHotEncoder\n",
    "\n",
    "\n",
    "def _get_cols(prefix, from_idx, to_idx):\n",
    "    res = []\n",
    "    for i in range(from_idx, to_idx + 1):\n",
    "        res.append(prefix + str(i))\n",
    "    return res\n",
    "\n",
    "\n",
    "class FeatureEngineer(TransformerMixin):\n",
    "    \"\"\"\n",
    "    A Transformer for Feature Enginnering\n",
    "    \"\"\"\n",
    "    PAY_AMTS = _get_cols('PAY_AMT', 1, 6)\n",
    "    BILL_AMTS = _get_cols('BILL_AMT', 1, 6)\n",
    "    PAYS = ['PAY_0'] + _get_cols('PAY_', 2, 6)\n",
    "\n",
    "    def fit(self, dataframe):\n",
    "        \"\"\"\n",
    "        :type dataframe pandas.DataFrame\n",
    "        \"\"\"\n",
    "        return self\n",
    "\n",
    "    def transform(self, dataframe):\n",
    "        \"\"\"\n",
    "        :type dataframe pandas.DataFrame\n",
    "        \"\"\"\n",
    "        dataframe['TOT_PAY_AMT'] = self._tot_pay_amt(dataframe)\n",
    "        dataframe['TOT_BILL_AMT'] = self._tot_bill_amt(dataframe)\n",
    "        dataframe['TOT_MOD'] = self._tot_month_of_delays(dataframe)\n",
    "        dataframe['NUM_NO_COMSP'] = self._num_of_no_consumption(dataframe)\n",
    "        dataframe['NUM_NO_DLY'] = self._num_of_no_delay(dataframe)\n",
    "        return dataframe\n",
    "\n",
    "    def _tot_pay_amt(self, dataframe):\n",
    "        return dataframe[self.PAY_AMTS].sum(axis=1)\n",
    "\n",
    "    def _tot_bill_amt(self, dataframe):\n",
    "        return dataframe[self.BILL_AMTS].sum(axis=1)\n",
    "\n",
    "    def _tot_month_of_delays(self, dataframe):\n",
    "        return dataframe[self.PAYS].replace([-2, -1], 0).sum(axis=1)\n",
    "\n",
    "    def _num_of_no_consumption(self, dataframe):\n",
    "        return (dataframe[self.PAYS] == -2).sum(axis=1)\n",
    "\n",
    "    def _num_of_no_delay(self, dataframe):\n",
    "        return (dataframe[self.PAYS] == -1).sum(axis=1)\n",
    "\n",
    "\n",
    "class NumFeatureSelector(TransformerMixin):\n",
    "    \"\"\"\n",
    "    Select Numeric Features\n",
    "    \"\"\"\n",
    "    FEATURES_ = [\n",
    "        'LIMIT_BAL', 'AGE', 'TOT_PAY_AMT', 'TOT_BILL_AMT', 'TOT_MOD',\n",
    "        'BILL_AMT1', 'BILL_AMT2', 'BILL_AMT3', 'BILL_AMT4', 'BILL_AMT5',\n",
    "        'BILL_AMT6', 'PAY_AMT1', 'PAY_AMT2', 'PAY_AMT3', 'PAY_AMT4',\n",
    "        'PAY_AMT5', 'PAY_AMT6'\n",
    "    ]\n",
    "\n",
    "    def __init__(self, features):\n",
    "        super().__init__()\n",
    "        self.features = features\n",
    "\n",
    "    def fit(self, dataframe):\n",
    "        \"\"\"\n",
    "        :type dataframe pandas.DataFrame\n",
    "        \"\"\"\n",
    "        return self\n",
    "\n",
    "    def transform(self, dataframe):\n",
    "        \"\"\"\n",
    "        :type dataframe pandas.DataFrame\n",
    "        \"\"\"\n",
    "        return dataframe[self.features].values\n",
    "\n",
    "\n",
    "class CatFeatureSelector(TransformerMixin):\n",
    "    \"\"\"\n",
    "    Select Categorical Features\n",
    "    \"\"\"\n",
    "    FEATURES_ = [\n",
    "        'SEX', 'EDUCATION', 'MARRIAGE', 'PAY_0',\n",
    "        'PAY_2', 'PAY_3', 'PAY_4', 'PAY_5', 'PAY_6',\n",
    "        'NUM_NO_COMSP', 'NUM_NO_DLY'\n",
    "    ]\n",
    "\n",
    "    def __init__(self, features=None):\n",
    "        super().__init__()\n",
    "        self._encoder = None\n",
    "        if features is None:\n",
    "            features = self.CAT_FEATURES_\n",
    "        self.features = features\n",
    "\n",
    "    def fit(self, dataframe):\n",
    "        \"\"\"\n",
    "        :type dataframe pandas.DataFrame\n",
    "        \"\"\"\n",
    "        self._encoder = OneHotEncoder(handle_unknown='ignore')\n",
    "        X = dataframe[self.features].astype('int32')\n",
    "        X -= X.min().min()\n",
    "        self._encoder.fit(X)\n",
    "        return self\n",
    "\n",
    "    def transform(self, dataframe):\n",
    "        \"\"\"\n",
    "        :type dataframe pandas.DataFrame\n",
    "        \"\"\"\n",
    "        X = dataframe[self.features].astype('int32')\n",
    "        X -= X.min().min()\n",
    "        return self._encoder.transform(X).toarray()\n",
    "\n",
    "    def feature_indices(self):\n",
    "        return self._encoder.feature_indices_\n",
    "\n",
    "\n",
    "class Transformer(TransformerMixin):\n",
    "    \"\"\"\n",
    "    Transform the `default of credit card clients` data\n",
    "    \"\"\"\n",
    "    _feature_enginner = FeatureEngineer()\n",
    "\n",
    "    def __init__(self, num_features=None, cat_features=None):\n",
    "        super().__init__()\n",
    "        self._need_to_fit = True\n",
    "        self._pipe = None\n",
    "        self.df = None\n",
    "        self.cat_selector = None\n",
    "        if num_features is None:\n",
    "            num_features = NumFeatureSelector.FEATURES_\n",
    "        if cat_features is None:\n",
    "            cat_features = CatFeatureSelector.FEATURES_\n",
    "        self.num_features = num_features\n",
    "        self.cat_features = cat_features\n",
    "\n",
    "    def fit(self, dataframe):\n",
    "        \"\"\"\n",
    "        :type dataframe pandas.DataFrame\n",
    "        \"\"\"\n",
    "        self._need_to_fit = True\n",
    "        return self\n",
    "\n",
    "    def transform(self, dataframe):\n",
    "        \"\"\"\n",
    "        :type dataframe pandas.DataFrame\n",
    "        \"\"\"\n",
    "        self.df = self._feature_enginner.fit_transform(dataframe)\n",
    "        if self._need_to_fit:\n",
    "            self._need_to_fit = False\n",
    "            self.cat_selector = CatFeatureSelector(self.cat_features)\n",
    "            self._pipe = Pipeline([\n",
    "                ('Feature Union', FeatureUnion([\n",
    "                    ('Numeric Features', NumFeatureSelector(self.num_features)),\n",
    "                    ('Encoded Categorical Features', self.cat_selector),\n",
    "                ])),\n",
    "                ('Standard Scaler', StandardScaler()),\n",
    "            ])\n",
    "            return self._pipe.fit_transform(self.df)\n",
    "        return self._pipe.transform(self.df)\n",
    "\n",
    "    def feature_importances(self, importances):\n",
    "        \"\"\"\n",
    "        :type importances numpy.ndarray\n",
    "        \"\"\"\n",
    "        indices = self.cat_selector.feature_indices()\n",
    "        col = len(self.num_features)\n",
    "        cat_scores = np.zeros(len(self.cat_features))\n",
    "        for i in range(1, len(indices)):\n",
    "            cat_scores[i - 1] = np.sum(importances[\n",
    "                (col + indices[i - 1]):(col + indices[i])\n",
    "            ])\n",
    "        return pd.DataFrame({\n",
    "            'feature': self.num_features + self.cat_features,\n",
    "            'importance': np.concatenate((\n",
    "                importances[:len(self.num_features)],\n",
    "                cat_scores\n",
    "            ))\n",
    "        }).sort_values(by=['importance'], ascending=False)"
   ]
  },
  {
   "cell_type": "markdown",
   "metadata": {
    "colab_type": "text",
    "id": "n2jRdkqiU9Fs"
   },
   "source": [
    "The `Transformer` class wraps the entire preprocessing logic. It contains feature engineering, selecting numeric and categorical features and transform them into indicator variables. It also provides a utility method to restore the original feature importance for the categorical features.\n",
    "\n",
    "The new features are \n",
    "\n",
    "`TOT_PAY_AMT`: Total payment in the 6 months.\n",
    "\n",
    "`TOT_BILL_AMT`: Total payment in the 6 months.\n",
    "\n",
    "`TOT_MOD`: Number of the month of delay. \n",
    "\n",
    "`NUM_NO_COMSP`: Number of months without consumption (with pay value of `-2`)\n",
    "\n",
    "`NUM_NO_DLY`: Number of months paid on time in full (with pay value of `-1`)"
   ]
  },
  {
   "cell_type": "code",
   "execution_count": null,
   "metadata": {
    "colab": {},
    "colab_type": "code",
    "id": "rMKOWoBD4mtS"
   },
   "outputs": [],
   "source": [
    "transformer = Transformer()\n",
    "X = transformer.fit_transform(df)\n",
    "df = transformer.df"
   ]
  },
  {
   "cell_type": "code",
   "execution_count": null,
   "metadata": {
    "colab": {
     "base_uri": "https://localhost:8080/",
     "height": 364
    },
    "colab_type": "code",
    "executionInfo": {
     "elapsed": 544,
     "status": "ok",
     "timestamp": 1539810959862,
     "user": {
      "displayName": "Kyle Hays",
      "photoUrl": "",
      "userId": "01076447387379991295"
     },
     "user_tz": 420
    },
    "id": "Em-OeURx4pXr",
    "outputId": "37bd7e45-eadd-46f5-92ad-320237aa8f5a"
   },
   "outputs": [],
   "source": [
    "def get_color(x):\n",
    "    return 'b' if x == 0 else 'r'\n",
    "\n",
    "df[df['TOT_BILL_AMT'] <= 0]['default.payment.next.month'].plot(kind='hist', density=1, alpha=.3)\n",
    "df[df['TOT_BILL_AMT'] > 0]['default.payment.next.month'].plot(kind='hist', density=1, alpha=.3)\n",
    "plt.legend(['Total Bill Amount <= 0', 'Total Bill Amount > 0'])"
   ]
  },
  {
   "cell_type": "markdown",
   "metadata": {
    "colab_type": "text",
    "id": "ZQV3wvLcVGyl"
   },
   "source": [
    "We found people with negative total bill amount are more likely to default."
   ]
  },
  {
   "cell_type": "code",
   "execution_count": null,
   "metadata": {
    "colab": {},
    "colab_type": "code",
    "id": "rzSO31Fh_DHv"
   },
   "outputs": [],
   "source": [
    "plt.scatter(df['TOT_PAY_AMT'], df['TOT_BILL_AMT'], s=2, alpha=0.5, c=list(map(get_color, df['default.payment.next.month'])))\n",
    "plt.xlabel('Total Payment')\n",
    "plt.ylabel('Total Bill')\n",
    "plt.xticks(rotation=45)"
   ]
  },
  {
   "cell_type": "code",
   "execution_count": null,
   "metadata": {
    "colab": {},
    "colab_type": "code",
    "id": "SDyxkKjL_EWF"
   },
   "outputs": [],
   "source": [
    "plt.scatter(df['TOT_MOD'], df['TOT_BILL_AMT'], s=2, alpha=0.5, c=list(map(get_color, df['default.payment.next.month'])))\n",
    "plt.xlabel('Total Month of Delays')\n",
    "plt.ylabel('Total Bill')"
   ]
  },
  {
   "cell_type": "markdown",
   "metadata": {
    "colab_type": "text",
    "id": "M0kDovFNVNia"
   },
   "source": [
    "The total month of delays is the sum of the `PAY` columns excluding the negative values. This new feature indicates people with high total month of delays are more likely to default."
   ]
  },
  {
   "cell_type": "markdown",
   "metadata": {
    "colab_type": "text",
    "id": "vMADFxVxmZyf"
   },
   "source": [
    "# Trying classifiers\n",
    "We will test out a broad suite of Machine Learning algorithms, as well as a few ensemble methods to find the best means of predicting defaulters."
   ]
  },
  {
   "cell_type": "code",
   "execution_count": null,
   "metadata": {
    "colab": {},
    "colab_type": "code",
    "id": "PLIC7h74mZyh"
   },
   "outputs": [],
   "source": [
    "from sklearn.naive_bayes import GaussianNB \n",
    "from sklearn.model_selection import train_test_split\n",
    "\n",
    "from sklearn import datasets\n",
    "from sklearn.model_selection import train_test_split\n",
    "import matplotlib\n",
    "import matplotlib.pyplot as plt\n",
    "import numpy as np\n",
    "import seaborn as sn\n",
    "import pandas as pd\n",
    "import os\n",
    "from sklearn.neighbors import KNeighborsClassifier as knn\n",
    "from sklearn import svm\n",
    "from sklearn.ensemble import RandomForestClassifier as rf\n",
    "from sklearn.ensemble import  VotingClassifier,GradientBoostingClassifier, AdaBoostClassifier\n",
    "from sklearn.pipeline import Pipeline\n",
    "from sklearn.model_selection import GridSearchCV\n",
    "from sklearn.linear_model import LogisticRegression, SGDRegressor,LinearRegression\n",
    "from sklearn.svm import LinearSVC\n",
    "from sklearn.metrics import confusion_matrix\n",
    "from sklearn.tree import DecisionTreeRegressor\n",
    "from sklearn.preprocessing import StandardScaler\n",
    "from sklearn.neighbors import KNeighborsClassifier, KNeighborsRegressor\n",
    "from sklearn.metrics import r2_score\n",
    "from sklearn.linear_model import SGDClassifier\n",
    "from sklearn.tree import DecisionTreeClassifier"
   ]
  },
  {
   "cell_type": "code",
   "execution_count": null,
   "metadata": {
    "colab": {},
    "colab_type": "code",
    "id": "UlNA5WMymZyl"
   },
   "outputs": [],
   "source": [
    "pd.set_option('mode.chained_assignment', None)\n",
    "df_train, df_test = train_test_split(df, test_size=0.3)\n",
    "X_train = transformer.fit_transform(df_train)\n",
    "y_train = df_train['default.payment.next.month']\n",
    "X_test = transformer.transform(df_test)\n",
    "y_test = df_test['default.payment.next.month']"
   ]
  },
  {
   "cell_type": "code",
   "execution_count": null,
   "metadata": {
    "colab": {
     "base_uri": "https://localhost:8080/",
     "height": 454
    },
    "colab_type": "code",
    "executionInfo": {
     "elapsed": 5009,
     "status": "ok",
     "timestamp": 1539810979872,
     "user": {
      "displayName": "Kyle Hays",
      "photoUrl": "",
      "userId": "01076447387379991295"
     },
     "user_tz": 420
    },
    "id": "XMBLihJv3EOl",
    "outputId": "0694d64b-474c-4a1c-f2e5-05621ac6b589"
   },
   "outputs": [],
   "source": [
    "rand_frst = rf(n_estimators=100).fit(X_train, y_train)\n",
    "transformer.feature_importances(rand_frst.feature_importances_).plot(kind='bar', x='feature')"
   ]
  },
  {
   "cell_type": "code",
   "execution_count": null,
   "metadata": {
    "colab": {},
    "colab_type": "code",
    "id": "sJup6Ozx3FuE"
   },
   "outputs": [],
   "source": [
    "transformer = Transformer(cat_features=[\n",
    "    'SEX', 'MARRIAGE', 'PAY_0'\n",
    "])\n",
    "X_train = transformer.fit_transform(df_train)\n",
    "y_train = df_train['default.payment.next.month']\n",
    "X_test = transformer.transform(df_test)\n",
    "y_test = df_test['default.payment.next.month']"
   ]
  },
  {
   "cell_type": "code",
   "execution_count": null,
   "metadata": {
    "colab": {
     "base_uri": "https://localhost:8080/",
     "height": 441
    },
    "colab_type": "code",
    "executionInfo": {
     "elapsed": 5248,
     "status": "ok",
     "timestamp": 1539811000942,
     "user": {
      "displayName": "Kyle Hays",
      "photoUrl": "",
      "userId": "01076447387379991295"
     },
     "user_tz": 420
    },
    "id": "obbzGlLB3LkE",
    "outputId": "ca7a5214-049c-442d-9566-e597e790ca16"
   },
   "outputs": [],
   "source": [
    "rand_frst = rf(n_estimators=100).fit(X_train, y_train)\n",
    "transformer.feature_importances(rand_frst.feature_importances_).plot(kind='bar', x='feature')"
   ]
  },
  {
   "cell_type": "markdown",
   "metadata": {
    "colab_type": "text",
    "id": "RjNo-oT5VS1g"
   },
   "source": [
    "One of the derived feature `TOT_MOD` has high feature importance value according to a random forest classifier.\n",
    "We remove the categorical variables with low feature importance value to reduce the dimensionality and improve the performance of the model."
   ]
  },
  {
   "cell_type": "markdown",
   "metadata": {
    "colab_type": "text",
    "id": "3BuOPDwLmZzB"
   },
   "source": [
    "### ML Specific Preprocessing"
   ]
  },
  {
   "cell_type": "code",
   "execution_count": null,
   "metadata": {
    "colab": {},
    "colab_type": "code",
    "id": "dZ5NTELU3YeM"
   },
   "outputs": [],
   "source": [
    "from sklearn.model_selection import learning_curve\n",
    "\n",
    "\n",
    "class ModelSelection:\n",
    "    def __init__(self, X, y):\n",
    "        self.X = X\n",
    "        self.y = y\n",
    "\n",
    "    def plot_learning_curves(self, estimators, n_jobs=None, cv=None,\n",
    "                             train_sizes=np.linspace(.6, 1.0, 5)):\n",
    "        for estimator, title in estimators:\n",
    "            self._plot_learning_curve(estimator, title, self.X, self.y, n_jobs=n_jobs, cv=cv,\n",
    "                                     train_sizes=train_sizes)\n",
    "        plt.show()\n",
    "        return plt\n",
    "\n",
    "    @staticmethod\n",
    "    def _plot_learning_curve(estimator, title, X, y, ylim=None, cv=None,\n",
    "                             n_jobs=None, train_sizes=None):\n",
    "        \"\"\"\n",
    "        Generate a simple plot of the test and training learning curve.\n",
    "        http://scikit-learn.org/stable/auto_examples/model_selection/plot_learning_curve.html\n",
    "\n",
    "        Parameters\n",
    "        ----------\n",
    "        estimator : object type that implements the \"fit\" and \"predict\" methods\n",
    "            An object of that type which is cloned for each validation.\n",
    "\n",
    "        title : string\n",
    "            Title for the chart.\n",
    "\n",
    "        X : array-like, shape (n_samples, n_features)\n",
    "            Training vector, where n_samples is the number of samples and\n",
    "            n_features is the number of features.\n",
    "\n",
    "        y : array-like, shape (n_samples) or (n_samples, n_features), optional\n",
    "            Target relative to X for classification or regression;\n",
    "            None for unsupervised learning.\n",
    "\n",
    "        ylim : tuple, shape (ymin, ymax), optional\n",
    "            Defines minimum and maximum yvalues plotted.\n",
    "\n",
    "        cv : int, cross-validation generator or an iterable, optional\n",
    "            Determines the cross-validation splitting strategy.\n",
    "            Possible inputs for cv are:\n",
    "              - None, to use the default 3-fold cross-validation,\n",
    "              - integer, to specify the number of folds.\n",
    "              - An object to be used as a cross-validation generator.\n",
    "              - An iterable yielding train/test splits.\n",
    "\n",
    "            For integer/None inputs, if ``y`` is binary or multiclass,\n",
    "            :class:`StratifiedKFold` used. If the estimator is not a classifier\n",
    "            or if ``y`` is neither binary nor multiclass, :class:`KFold` is used.\n",
    "\n",
    "            Refer :ref:`User Guide <cross_validation>` for the various\n",
    "            cross-validators that can be used here.\n",
    "\n",
    "        n_jobs : int or None, optional (default=None)\n",
    "            Number of jobs to run in parallel.\n",
    "            ``None`` means 1 unless in a :obj:`joblib.parallel_backend` context.\n",
    "            ``-1`` means using all processors. See :term:`Glossary <n_jobs>`\n",
    "            for more details.\n",
    "\n",
    "        train_sizes : array-like, shape (n_ticks,), dtype float or int\n",
    "            Relative or absolute numbers of training examples that will be used to\n",
    "            generate the learning curve. If the dtype is float, it is regarded as a\n",
    "            fraction of the maximum size of the training set (that is determined\n",
    "            by the selected validation method), i.e. it has to be within (0, 1].\n",
    "            Otherwise it is interpreted as absolute sizes of the training sets.\n",
    "            Note that for classification the number of samples usually have to\n",
    "            be big enough to contain at least one sample from each class.\n",
    "            (default: np.linspace(0.1, 1.0, 5))\n",
    "        \"\"\"\n",
    "        plt.figure()\n",
    "        plt.title(title)\n",
    "        if ylim is not None:\n",
    "            plt.ylim(*ylim)\n",
    "        plt.xlabel(\"Training examples\")\n",
    "        plt.ylabel(\"Score\")\n",
    "        train_sizes, train_scores, test_scores = learning_curve(\n",
    "            estimator, X, y, cv=cv, n_jobs=n_jobs, train_sizes=train_sizes)\n",
    "        train_scores_mean = np.mean(train_scores, axis=1)\n",
    "        train_scores_std = np.std(train_scores, axis=1)\n",
    "        test_scores_mean = np.mean(test_scores, axis=1)\n",
    "        test_scores_std = np.std(test_scores, axis=1)\n",
    "        plt.grid()\n",
    "\n",
    "        plt.fill_between(train_sizes, train_scores_mean - train_scores_std,\n",
    "                         train_scores_mean + train_scores_std, alpha=0.1,\n",
    "                         color=\"r\")\n",
    "        plt.fill_between(train_sizes, test_scores_mean - test_scores_std,\n",
    "                         test_scores_mean + test_scores_std, alpha=0.1, color=\"g\")\n",
    "        plt.plot(train_sizes, train_scores_mean, 'o-', color=\"r\",\n",
    "                 label=\"Training score\")\n",
    "        plt.plot(train_sizes, test_scores_mean, 'o-', color=\"g\",\n",
    "                 label=\"Cross-validation score\")\n",
    "\n",
    "        plt.legend(loc=\"best\")\n",
    "        return plt"
   ]
  },
  {
   "cell_type": "code",
   "execution_count": null,
   "metadata": {
    "colab": {},
    "colab_type": "code",
    "id": "5ZrP8aTlvciR"
   },
   "outputs": [],
   "source": [
    "from sklearn.metrics import roc_curve, auc,roc_auc_score\n",
    "#Y_SCORE is the decision_function\n",
    "#y_score = classifier.score(X_test)\n",
    "#y_test is the data frame of test values\n",
    "def get_predictions(clf, params, X_train, X_test, y_train, y_test):\n",
    "    flat = [[(k, v) for v in vs] for k, vs in param_grid.items()]\n",
    "    parameters = [dict(items) for items in product(*flat)]\n",
    "   \n",
    "    predictions = []\n",
    "    for i in parameters:\n",
    "        clf.set_params(**i)\n",
    "        clf.fit(X_train,y_train)\n",
    "        predict = clf.predict(X_test)\n",
    "        predictions.append(predict)\n",
    "    return predictions\n",
    "\n",
    "def plot_ROC_curve(y_test, pred):\n",
    "    '''\n",
    "    Example:\n",
    "        predictions = get_predictions(KNN, param_grid4, X_train, X_test, y_train, y_test)\n",
    "        plot_Roc_curve(y_test, predictions)\n",
    "    '''\n",
    "    points = []\n",
    "    for i in pred:\n",
    "        precision, recall, f, beta = precision_recall_fscore_support(y_test, i, average='binary')\n",
    "        points.append((precision,recall))\n",
    "        plt.scatter(precision,recall)\n",
    "    plt.xlabel(\"precision\")\n",
    "    plt.ylabel(\"recall\")\n",
    "    plt.legend(labels = \"123456789\",loc = \"best\")\n",
    "    plt.show()\n",
    "\n",
    "\n",
    "def ROC_curve_plot(pred,y_test):\n",
    "  fpr = dict()\n",
    "  tpr = dict()\n",
    "  roc_auc = dict()\n",
    "  for i in range(2):\n",
    "    fpr[i], tpr[i], _ = roc_curve(y_test, pred)\n",
    "    roc_auc[i] = auc(fpr[i], tpr[i])\n",
    "\n",
    "  print (roc_auc_score(y_test.ravel(), pred))\n",
    "  plt.figure()\n",
    "  plt.plot(fpr[1], tpr[1],color = 'darkorange')\n",
    "  plt.plot([0,1],[0,1],color = 'navy',lw=2,linestyle='--')\n",
    "  plt.xlim([0.0, 1.0])\n",
    "  plt.ylim([0.0, 1.05])\n",
    "  plt.xlabel('False Positive Rate')\n",
    "  plt.ylabel('True Positive Rate')\n",
    "  plt.title('Receiver operating characteristic')\n",
    "  plt.show()\n",
    "\n",
    "\n",
    "def plot_confusion_matrix(y_test, predict, normalize=False, title='Confusion Matrix'):\n",
    "    df_cm = pd.DataFrame(confusion_matrix(y_test,predict), index = [i for i in \"01\"],\n",
    "                         columns = [i for i in \"01\"])\n",
    "    total = df_cm.sum().sum()\n",
    "    if normalize:\n",
    "        df_cm = df_cm.astype('float') / total\n",
    "    plt.figure(figsize = (10,7))\n",
    "    sn.heatmap(df_cm, annot=True)\n",
    "    plt.title(title)\n",
    "    plt.ylabel(\"TRUE\")\n",
    "    plt.xlabel(\"PREDICTION\")"
   ]
  },
  {
   "cell_type": "code",
   "execution_count": null,
   "metadata": {
    "colab": {},
    "colab_type": "code",
    "id": "w6R2tyMP3jDS"
   },
   "outputs": [],
   "source": [
    "selector = ModelSelection(X_train, y_train)"
   ]
  },
  {
   "cell_type": "markdown",
   "metadata": {
    "colab_type": "text",
    "id": "VdNaMJZdmZzY"
   },
   "source": [
    "## Gradient Boosting Classifier & GridSearch for best parameters"
   ]
  },
  {
   "cell_type": "markdown",
   "metadata": {
    "colab_type": "text",
    "id": "Jhls0dUSmZza"
   },
   "source": [
    "### <font color=\"red\">Warning before running!: This is a very processor intensive piece of code. It can take a while to finish running. You may want to skip it and check some of the 'lighter' learning algorithms first.</font>"
   ]
  },
  {
   "cell_type": "code",
   "execution_count": null,
   "metadata": {
    "colab": {
     "base_uri": "https://localhost:8080/",
     "height": 258
    },
    "colab_type": "code",
    "executionInfo": {
     "elapsed": 1837753,
     "status": "ok",
     "timestamp": 1539815365417,
     "user": {
      "displayName": "Kyle Hays",
      "photoUrl": "",
      "userId": "01076447387379991295"
     },
     "user_tz": 420
    },
    "id": "XeL5kNVamZzc",
    "outputId": "7e5f17fa-d03b-432b-b80c-bec776176e41"
   },
   "outputs": [],
   "source": [
    "gbrt = GradientBoostingClassifier()\n",
    "\n",
    "n_estimators = np.arange(1, 20, 2)\n",
    "depth = np.arange(1, 10)\n",
    "learning_rates = [0.01, 0.1, 1]\n",
    "\n",
    "param_grid = {'n_estimators': n_estimators , 'max_depth' : depth, 'learning_rate':learning_rates}\n",
    "grid1 = GridSearchCV(gbrt, param_grid=param_grid, cv=5, n_jobs=12)\n",
    "grid1.fit(X_train,y_train.ravel())"
   ]
  },
  {
   "cell_type": "code",
   "execution_count": null,
   "metadata": {
    "colab": {
     "base_uri": "https://localhost:8080/",
     "height": 51
    },
    "colab_type": "code",
    "executionInfo": {
     "elapsed": 691,
     "status": "ok",
     "timestamp": 1539815366908,
     "user": {
      "displayName": "Kyle Hays",
      "photoUrl": "",
      "userId": "01076447387379991295"
     },
     "user_tz": 420
    },
    "id": "ll9Au1WCmZzs",
    "outputId": "df1e63ff-7ce4-491a-8448-58a3ebafd450"
   },
   "outputs": [],
   "source": [
    "print(\"Best Accuracy: \",grid1.best_score_*100)\n",
    "print(\"Best params: \", grid1.best_params_)"
   ]
  },
  {
   "cell_type": "markdown",
   "metadata": {
    "colab_type": "text",
    "id": "lNCoD0NwmZzy"
   },
   "source": [
    "Accuracy of about 82% seems pretty decent! This will end up being one of our best classifiers"
   ]
  },
  {
   "cell_type": "code",
   "execution_count": null,
   "metadata": {
    "colab": {
     "base_uri": "https://localhost:8080/",
     "height": 491
    },
    "colab_type": "code",
    "executionInfo": {
     "elapsed": 921,
     "status": "ok",
     "timestamp": 1539817050440,
     "user": {
      "displayName": "Kyle Hays",
      "photoUrl": "",
      "userId": "01076447387379991295"
     },
     "user_tz": 420
    },
    "id": "KMnP26DSmZz0",
    "outputId": "537d9a13-8d1a-461b-a2a6-416aaec93b23"
   },
   "outputs": [],
   "source": [
    "gbrt_best = grid1.best_estimator_\n",
    "gbrt_best.fit(X_train,y_train)\n",
    "predict = gbrt_best.predict(X_test)\n",
    "\n",
    "print(gbrt_best.score(X_test,y_test))\n",
    "plot_confusion_matrix(y_test, predict, normalize=True)"
   ]
  },
  {
   "cell_type": "code",
   "execution_count": null,
   "metadata": {
    "colab": {
     "base_uri": "https://localhost:8080/",
     "height": 393
    },
    "colab_type": "code",
    "executionInfo": {
     "elapsed": 568,
     "status": "ok",
     "timestamp": 1539817053975,
     "user": {
      "displayName": "Kyle Hays",
      "photoUrl": "",
      "userId": "01076447387379991295"
     },
     "user_tz": 420
    },
    "id": "t27uRLpx344f",
    "outputId": "6a8b5a1d-84a0-47cd-e3ee-2252198f8874"
   },
   "outputs": [],
   "source": [
    "y_score = gbrt_best.predict(X_test)\n",
    "ROC_curve_plot(y_test,y_score)"
   ]
  },
  {
   "cell_type": "code",
   "execution_count": null,
   "metadata": {
    "colab": {
     "base_uri": "https://localhost:8080/",
     "height": 393
    },
    "colab_type": "code",
    "executionInfo": {
     "elapsed": 2071,
     "status": "ok",
     "timestamp": 1539817058802,
     "user": {
      "displayName": "Kyle Hays",
      "photoUrl": "",
      "userId": "01076447387379991295"
     },
     "user_tz": 420
    },
    "id": "8U8UIHSI3zCo",
    "outputId": "c7998110-409c-4817-a1c1-429798ef398c"
   },
   "outputs": [],
   "source": [
    "selector.plot_learning_curves([\n",
    "    (gbrt_best, 'Gradient Boosting ({})'.format(grid1.best_params_))\n",
    "], n_jobs=4)"
   ]
  },
  {
   "cell_type": "markdown",
   "metadata": {
    "colab_type": "text",
    "id": "38aTFc0vmZz7"
   },
   "source": [
    "## Stochastic Gradient Desecent and Grid Search\n",
    "### <font color = \"red\">Also very processor heavy</font>"
   ]
  },
  {
   "cell_type": "code",
   "execution_count": null,
   "metadata": {
    "colab": {
     "base_uri": "https://localhost:8080/",
     "height": 189
    },
    "colab_type": "code",
    "executionInfo": {
     "elapsed": 1235092,
     "status": "ok",
     "timestamp": 1539816602437,
     "user": {
      "displayName": "Kyle Hays",
      "photoUrl": "",
      "userId": "01076447387379991295"
     },
     "user_tz": 420
    },
    "id": "zRm3dyV1mZz8",
    "outputId": "50323b3f-7597-4394-c0d0-54a9fedbce90"
   },
   "outputs": [],
   "source": [
    "SGDC = SGDClassifier(max_iter=1000)\n",
    "#n_estimators = np.arange(1,20)\n",
    "depth = np.arange(1,10)\n",
    "alpha = [0.001,0.0001,0.01,0.1,1]\n",
    "loss = [\"hinge\",\"modified_huber\",\"log\"]\n",
    "penalty = [\"l2\",\"l1\",\"elasticnet\"]\n",
    "\n",
    "param_grid = {'alpha': alpha , 'loss' : loss, 'penalty':penalty}\n",
    "\n",
    "grid2 = GridSearchCV(SGDC, param_grid=param_grid, cv=5, n_jobs=4)\n",
    "grid2.fit(X_train,y_train.ravel())"
   ]
  },
  {
   "cell_type": "code",
   "execution_count": null,
   "metadata": {
    "colab": {
     "base_uri": "https://localhost:8080/",
     "height": 51
    },
    "colab_type": "code",
    "executionInfo": {
     "elapsed": 655,
     "status": "ok",
     "timestamp": 1539816603154,
     "user": {
      "displayName": "Kyle Hays",
      "photoUrl": "",
      "userId": "01076447387379991295"
     },
     "user_tz": 420
    },
    "id": "Dxjli-FNmZ0D",
    "outputId": "e4133e19-f21a-4ec4-a47b-e5b27c6230b8"
   },
   "outputs": [],
   "source": [
    "print(\"Best Accuracy: \",grid2.best_score_*100)\n",
    "print(\"Best params: \", grid2.best_params_)"
   ]
  },
  {
   "cell_type": "markdown",
   "metadata": {
    "colab_type": "text",
    "id": "El17zcLWmZ0R"
   },
   "source": [
    "Accuracy here of about 82%."
   ]
  },
  {
   "cell_type": "code",
   "execution_count": null,
   "metadata": {
    "colab": {
     "base_uri": "https://localhost:8080/",
     "height": 491
    },
    "colab_type": "code",
    "executionInfo": {
     "elapsed": 740,
     "status": "ok",
     "timestamp": 1539817063420,
     "user": {
      "displayName": "Kyle Hays",
      "photoUrl": "",
      "userId": "01076447387379991295"
     },
     "user_tz": 420
    },
    "id": "ZNnX9BFJmZ0T",
    "outputId": "fcfb3df5-fdba-4d4c-dfad-939e879ccdd7"
   },
   "outputs": [],
   "source": [
    "SGDC_best = grid2.best_estimator_\n",
    "SGDC_best.fit(X_train,y_train)\n",
    "predict = SGDC_best.predict(X_test)\n",
    "\n",
    "print(SGDC_best.score(X_test,y_test))\n",
    "plot_confusion_matrix(y_test, predict, normalize=True)"
   ]
  },
  {
   "cell_type": "code",
   "execution_count": null,
   "metadata": {
    "colab": {
     "base_uri": "https://localhost:8080/",
     "height": 393
    },
    "colab_type": "code",
    "executionInfo": {
     "elapsed": 610,
     "status": "ok",
     "timestamp": 1539817065001,
     "user": {
      "displayName": "Kyle Hays",
      "photoUrl": "",
      "userId": "01076447387379991295"
     },
     "user_tz": 420
    },
    "id": "l-E81vaIxdF6",
    "outputId": "b187c420-0197-4655-f714-ed13db23796f"
   },
   "outputs": [],
   "source": [
    "y_score = SGDC_best.predict(X_test)\n",
    "ROC_curve_plot(y_test,y_score)"
   ]
  },
  {
   "cell_type": "code",
   "execution_count": null,
   "metadata": {
    "colab": {
     "base_uri": "https://localhost:8080/",
     "height": 393
    },
    "colab_type": "code",
    "executionInfo": {
     "elapsed": 1347,
     "status": "ok",
     "timestamp": 1539817067599,
     "user": {
      "displayName": "Kyle Hays",
      "photoUrl": "",
      "userId": "01076447387379991295"
     },
     "user_tz": 420
    },
    "id": "yZxyivTt3mmB",
    "outputId": "333a54f9-3f0c-4c31-af9f-9f2d1c109e76"
   },
   "outputs": [],
   "source": [
    "selector.plot_learning_curves([\n",
    "    (SGDC_best, 'Stochastic Gradient Descent ({})'.format(grid2.best_params_))\n",
    "], n_jobs=4)"
   ]
  },
  {
   "cell_type": "markdown",
   "metadata": {
    "colab_type": "text",
    "id": "sXfkNDaVmZ0Y"
   },
   "source": [
    "## Support Vector Machine"
   ]
  },
  {
   "cell_type": "code",
   "execution_count": null,
   "metadata": {
    "colab": {},
    "colab_type": "code",
    "id": "MR3KFMeomZ0Z"
   },
   "outputs": [],
   "source": [
    "SGDC = svm.SVC()\n",
    "kernel = ['linear','rbf','sigmoid']\n",
    "cvalues = [0.001,0.0001,0.01,0.1,1]\n",
    "\n",
    "param_grid = {'kernel': kernel, 'C': cvalues}\n",
    "\n",
    "grid3 = GridSearchCV(SGDC, param_grid=param_grid, cv=5, n_jobs=4)\n",
    "grid3.fit(X_train, y_train.ravel())"
   ]
  },
  {
   "cell_type": "code",
   "execution_count": null,
   "metadata": {
    "colab": {},
    "colab_type": "code",
    "id": "kzz1ZrnHmZ0i"
   },
   "outputs": [],
   "source": [
    "print(\"Best Accuracy: \",grid3.best_score_*100)\n",
    "print(\"Best params: \", grid3.best_params_)"
   ]
  },
  {
   "cell_type": "code",
   "execution_count": null,
   "metadata": {
    "colab": {
     "base_uri": "https://localhost:8080/",
     "height": 491
    },
    "colab_type": "code",
    "executionInfo": {
     "elapsed": 31683,
     "status": "ok",
     "timestamp": 1539813324519,
     "user": {
      "displayName": "Kyle Hays",
      "photoUrl": "",
      "userId": "01076447387379991295"
     },
     "user_tz": 420
    },
    "id": "-UFYH48YmZ0o",
    "outputId": "c32fda1d-ea0f-451e-a221-2d16b7d895ac"
   },
   "outputs": [],
   "source": [
    "svc_best = grid3.best_estimator_\n",
    "svc_best.fit(X_train,y_train.ravel())\n",
    "\n",
    "predict = svc_best.predict(X_test)\n",
    "\n",
    "print(svc_best.score(X_test,y_test))\n",
    "plot_confusion_matrix(y_test, predict, normalize=True)"
   ]
  },
  {
   "cell_type": "code",
   "execution_count": null,
   "metadata": {
    "colab": {
     "base_uri": "https://localhost:8080/",
     "height": 393
    },
    "colab_type": "code",
    "executionInfo": {
     "elapsed": 4866,
     "status": "ok",
     "timestamp": 1539813329533,
     "user": {
      "displayName": "Kyle Hays",
      "photoUrl": "",
      "userId": "01076447387379991295"
     },
     "user_tz": 420
    },
    "id": "NuqBFrj-3_w8",
    "outputId": "0eb8e5c6-7b85-478f-9b43-a188fc346036"
   },
   "outputs": [],
   "source": [
    "y_score = svc_best.predict(X_test)\n",
    "ROC_curve_plot(y_test,y_score)"
   ]
  },
  {
   "cell_type": "code",
   "execution_count": null,
   "metadata": {
    "colab": {
     "base_uri": "https://localhost:8080/",
     "height": 393
    },
    "colab_type": "code",
    "executionInfo": {
     "elapsed": 153784,
     "status": "ok",
     "timestamp": 1539813483366,
     "user": {
      "displayName": "Kyle Hays",
      "photoUrl": "",
      "userId": "01076447387379991295"
     },
     "user_tz": 420
    },
    "id": "ElCnw-tA347h",
    "outputId": "3291b448-e37f-4092-eaf8-d32c58e2da99"
   },
   "outputs": [],
   "source": [
    "selector.plot_learning_curves([\n",
    "    (svc_best, 'SVC ({})'.format(grid3.best_params_))\n",
    "])"
   ]
  },
  {
   "cell_type": "markdown",
   "metadata": {
    "colab_type": "text",
    "id": "capqakdfmZ0u"
   },
   "source": [
    "## K-Nearest Neighbors"
   ]
  },
  {
   "cell_type": "code",
   "execution_count": null,
   "metadata": {
    "colab": {
     "base_uri": "https://localhost:8080/",
     "height": 155
    },
    "colab_type": "code",
    "executionInfo": {
     "elapsed": 331364,
     "status": "ok",
     "timestamp": 1539816934839,
     "user": {
      "displayName": "Kyle Hays",
      "photoUrl": "",
      "userId": "01076447387379991295"
     },
     "user_tz": 420
    },
    "id": "p44bXpytmZ0w",
    "outputId": "2b442522-2751-463a-8b10-a81c5b6fce8d"
   },
   "outputs": [],
   "source": [
    "KNN =KNeighborsClassifier()\n",
    "n = np.arange(1, 11, 2)\n",
    "param_grid = {'n_neighbors': n}\n",
    "\n",
    "grid4 = GridSearchCV(KNN, param_grid=param_grid, cv=5, n_jobs=4)\n",
    "grid4.fit(X_train,y_train.ravel())"
   ]
  },
  {
   "cell_type": "code",
   "execution_count": null,
   "metadata": {
    "colab": {
     "base_uri": "https://localhost:8080/",
     "height": 51
    },
    "colab_type": "code",
    "executionInfo": {
     "elapsed": 564,
     "status": "ok",
     "timestamp": 1539816935687,
     "user": {
      "displayName": "Kyle Hays",
      "photoUrl": "",
      "userId": "01076447387379991295"
     },
     "user_tz": 420
    },
    "id": "de6WT6D4mZ02",
    "outputId": "0e3c06eb-274b-49b2-b357-fcb353e67ded"
   },
   "outputs": [],
   "source": [
    "print(\"Best Accuracy: \",grid4.best_score_ * 100)\n",
    "print(\"Best params: \", grid4.best_params_)"
   ]
  },
  {
   "cell_type": "code",
   "execution_count": null,
   "metadata": {
    "colab": {
     "base_uri": "https://localhost:8080/",
     "height": 491
    },
    "colab_type": "code",
    "executionInfo": {
     "elapsed": 17840,
     "status": "ok",
     "timestamp": 1539817104335,
     "user": {
      "displayName": "Kyle Hays",
      "photoUrl": "",
      "userId": "01076447387379991295"
     },
     "user_tz": 420
    },
    "id": "qCfIeTP5mZ06",
    "outputId": "af89016e-16e3-43be-e7c3-6084bbf6e4fe"
   },
   "outputs": [],
   "source": [
    "knn_best = grid4.best_estimator_\n",
    "knn_best.fit(X_train,y_train.ravel())\n",
    "\n",
    "predict = knn_best.predict(X_test)\n",
    "\n",
    "print(knn_best.score(X_test, y_test))\n",
    "plot_confusion_matrix(y_test, predict, normalize=True)"
   ]
  },
  {
   "cell_type": "code",
   "execution_count": null,
   "metadata": {
    "colab": {
     "base_uri": "https://localhost:8080/",
     "height": 393
    },
    "colab_type": "code",
    "executionInfo": {
     "elapsed": 10108,
     "status": "ok",
     "timestamp": 1539817114702,
     "user": {
      "displayName": "Kyle Hays",
      "photoUrl": "",
      "userId": "01076447387379991295"
     },
     "user_tz": 420
    },
    "id": "X8fCrnZJ3YCu",
    "outputId": "33e37084-8c7d-4eff-c0c0-ff1d0744d84a"
   },
   "outputs": [],
   "source": [
    "y_score = knn_best.predict(X_test)\n",
    "ROC_curve_plot(y_test,y_score)"
   ]
  },
  {
   "cell_type": "code",
   "execution_count": null,
   "metadata": {
    "colab": {
     "base_uri": "https://localhost:8080/",
     "height": 393
    },
    "colab_type": "code",
    "executionInfo": {
     "elapsed": 134523,
     "status": "ok",
     "timestamp": 1539817249404,
     "user": {
      "displayName": "Kyle Hays",
      "photoUrl": "",
      "userId": "01076447387379991295"
     },
     "user_tz": 420
    },
    "id": "1i_dPbvj383W",
    "outputId": "75c2fad1-37c9-413c-f4d7-eebb15bae0bc"
   },
   "outputs": [],
   "source": [
    "selector.plot_learning_curves([\n",
    "    (knn_best, 'KNN {}'.format(grid4.best_params_))\n",
    "])"
   ]
  },
  {
   "cell_type": "markdown",
   "metadata": {
    "colab_type": "text",
    "id": "jhlfiO9nmZ0-"
   },
   "source": [
    "## Decision Tree"
   ]
  },
  {
   "cell_type": "code",
   "execution_count": null,
   "metadata": {
    "colab": {
     "base_uri": "https://localhost:8080/",
     "height": 223
    },
    "colab_type": "code",
    "executionInfo": {
     "elapsed": 20561,
     "status": "ok",
     "timestamp": 1539816956503,
     "user": {
      "displayName": "Kyle Hays",
      "photoUrl": "",
      "userId": "01076447387379991295"
     },
     "user_tz": 420
    },
    "id": "7a0EO813mZ1A",
    "outputId": "82cb2e39-c64f-483b-c879-94771cca578b"
   },
   "outputs": [],
   "source": [
    "tree =DecisionTreeClassifier()\n",
    "max_depth = np.arange(1,20)\n",
    "param_grid = {'max_depth': max_depth}\n",
    "\n",
    "grid5 = GridSearchCV(tree, param_grid=param_grid, cv=5, n_jobs=8)\n",
    "grid5.fit(X_train,y_train.ravel())"
   ]
  },
  {
   "cell_type": "code",
   "execution_count": null,
   "metadata": {
    "colab": {
     "base_uri": "https://localhost:8080/",
     "height": 51
    },
    "colab_type": "code",
    "executionInfo": {
     "elapsed": 1616,
     "status": "ok",
     "timestamp": 1539816959312,
     "user": {
      "displayName": "Kyle Hays",
      "photoUrl": "",
      "userId": "01076447387379991295"
     },
     "user_tz": 420
    },
    "id": "gdLNYFRXmZ1D",
    "outputId": "0686f3c3-28f4-4f18-8b91-40bcfd3f7fab"
   },
   "outputs": [],
   "source": [
    "print(\"Best Accuracy: \",grid5.best_score_ * 100)\n",
    "print(\"Best params: \", grid5.best_params_)"
   ]
  },
  {
   "cell_type": "markdown",
   "metadata": {
    "colab_type": "text",
    "id": "w87GcKP7mZ1H"
   },
   "source": [
    "Almost 82% accuracy! This is nearly the best we've gotten so far. Seems like the big trade-off in training will be computational/time complexity vs. prediciton accuracy. "
   ]
  },
  {
   "cell_type": "code",
   "execution_count": null,
   "metadata": {
    "colab": {
     "base_uri": "https://localhost:8080/",
     "height": 491
    },
    "colab_type": "code",
    "executionInfo": {
     "elapsed": 1050,
     "status": "ok",
     "timestamp": 1539817251509,
     "user": {
      "displayName": "Kyle Hays",
      "photoUrl": "",
      "userId": "01076447387379991295"
     },
     "user_tz": 420
    },
    "id": "qNDqkMD9mZ1J",
    "outputId": "31d0c930-594f-41d0-8858-2835f6651c9c"
   },
   "outputs": [],
   "source": [
    "tree_best = grid5.best_estimator_\n",
    "tree_best.fit(X_train,y_train.ravel())\n",
    "\n",
    "predict = tree_best.predict(X_test)\n",
    "\n",
    "print(tree_best.score(X_test,y_test))\n",
    "plot_confusion_matrix(y_test, predict, normalize=True)"
   ]
  },
  {
   "cell_type": "code",
   "execution_count": null,
   "metadata": {
    "colab": {
     "base_uri": "https://localhost:8080/",
     "height": 393
    },
    "colab_type": "code",
    "executionInfo": {
     "elapsed": 943,
     "status": "ok",
     "timestamp": 1539817253313,
     "user": {
      "displayName": "Kyle Hays",
      "photoUrl": "",
      "userId": "01076447387379991295"
     },
     "user_tz": 420
    },
    "id": "bp0E730_3cmr",
    "outputId": "d878fabb-38c7-4a8f-a235-8a952676bbb3"
   },
   "outputs": [],
   "source": [
    "y_score = tree_best.predict(X_test)\n",
    "ROC_curve_plot(y_test,y_score)"
   ]
  },
  {
   "cell_type": "code",
   "execution_count": null,
   "metadata": {
    "colab": {
     "base_uri": "https://localhost:8080/",
     "height": 393
    },
    "colab_type": "code",
    "executionInfo": {
     "elapsed": 1876,
     "status": "ok",
     "timestamp": 1539817256212,
     "user": {
      "displayName": "Kyle Hays",
      "photoUrl": "",
      "userId": "01076447387379991295"
     },
     "user_tz": 420
    },
    "id": "sS6R8dPw4CTr",
    "outputId": "8d990bd3-fd78-463b-adb9-1d8c6af96e6e"
   },
   "outputs": [],
   "source": [
    "selector.plot_learning_curves([\n",
    "    (tree_best, 'DecisionTree ({})'.format(grid5.best_params_))\n",
    "])"
   ]
  },
  {
   "cell_type": "markdown",
   "metadata": {
    "colab_type": "text",
    "id": "M6DXsCuimZ1e"
   },
   "source": [
    "## ADA-Boost"
   ]
  },
  {
   "cell_type": "code",
   "execution_count": null,
   "metadata": {
    "colab": {
     "base_uri": "https://localhost:8080/",
     "height": 137
    },
    "colab_type": "code",
    "executionInfo": {
     "elapsed": 364780,
     "status": "ok",
     "timestamp": 1539817656539,
     "user": {
      "displayName": "Kyle Hays",
      "photoUrl": "",
      "userId": "01076447387379991295"
     },
     "user_tz": 420
    },
    "id": "G5TEtQVImZ1g",
    "outputId": "fd1a76ba-e133-4405-b5cc-06489b41e123"
   },
   "outputs": [],
   "source": [
    "ada = AdaBoostClassifier()\n",
    "learning_rate = [0.001,0.0001,0.01,0.1,1]\n",
    "n_estimators = np.arange(1,100,10)\n",
    "param_grid = {'learning_rate': learning_rate,'n_estimators': n_estimators}\n",
    "\n",
    "grid6 = GridSearchCV(ada, param_grid=param_grid, cv=5, n_jobs=8)\n",
    "grid6.fit(X_train, y_train.ravel())"
   ]
  },
  {
   "cell_type": "code",
   "execution_count": null,
   "metadata": {
    "colab": {
     "base_uri": "https://localhost:8080/",
     "height": 51
    },
    "colab_type": "code",
    "executionInfo": {
     "elapsed": 553,
     "status": "ok",
     "timestamp": 1539818618826,
     "user": {
      "displayName": "Kyle Hays",
      "photoUrl": "",
      "userId": "01076447387379991295"
     },
     "user_tz": 420
    },
    "id": "JvNilaALmZ1l",
    "outputId": "3836fa16-2bc5-4466-e72c-fe914ddbb852"
   },
   "outputs": [],
   "source": [
    "print(\"Best Accuracy: \",grid6.best_score_ * 100)\n",
    "print(\"Best params: \", grid6.best_params_)"
   ]
  },
  {
   "cell_type": "code",
   "execution_count": null,
   "metadata": {
    "colab": {
     "base_uri": "https://localhost:8080/",
     "height": 491
    },
    "colab_type": "code",
    "executionInfo": {
     "elapsed": 4347,
     "status": "ok",
     "timestamp": 1539818658262,
     "user": {
      "displayName": "Kyle Hays",
      "photoUrl": "",
      "userId": "01076447387379991295"
     },
     "user_tz": 420
    },
    "id": "O2NDm8tKmZ1o",
    "outputId": "898b695b-233c-4f61-f60b-98225d4c41a8"
   },
   "outputs": [],
   "source": [
    "ada_best = grid6.best_estimator_\n",
    "ada_best.fit(X_train,y_train.ravel())\n",
    "\n",
    "predict = ada_best.predict(X_test)\n",
    "\n",
    "print(ada_best.score(X_test,y_test))\n",
    "plot_confusion_matrix(y_test, predict, normalize=True)"
   ]
  },
  {
   "cell_type": "code",
   "execution_count": null,
   "metadata": {
    "colab": {
     "base_uri": "https://localhost:8080/",
     "height": 393
    },
    "colab_type": "code",
    "executionInfo": {
     "elapsed": 1020,
     "status": "ok",
     "timestamp": 1539818666451,
     "user": {
      "displayName": "Kyle Hays",
      "photoUrl": "",
      "userId": "01076447387379991295"
     },
     "user_tz": 420
    },
    "id": "Vc9dVq-a3kEM",
    "outputId": "ca2462ff-bf4a-42c3-9d89-9d9d147d6d37"
   },
   "outputs": [],
   "source": [
    "y_score = ada_best.predict(X_test)\n",
    "ROC_curve_plot(y_test,y_score)"
   ]
  },
  {
   "cell_type": "code",
   "execution_count": null,
   "metadata": {
    "colab": {
     "base_uri": "https://localhost:8080/",
     "height": 393
    },
    "colab_type": "code",
    "executionInfo": {
     "elapsed": 30279,
     "status": "ok",
     "timestamp": 1539818701406,
     "user": {
      "displayName": "Kyle Hays",
      "photoUrl": "",
      "userId": "01076447387379991295"
     },
     "user_tz": 420
    },
    "id": "KrqUJimXBHsf",
    "outputId": "041e6c86-7e03-43d9-8fc3-7bc48ef1ddaf"
   },
   "outputs": [],
   "source": [
    "selector.plot_learning_curves([\n",
    "    (ada_best, 'AdaBoost ({})'.format(grid6.best_params_))\n",
    "])"
   ]
  },
  {
   "cell_type": "markdown",
   "metadata": {
    "colab_type": "text",
    "id": "-V7SGReTmZ1-"
   },
   "source": [
    "# Conclusion\n",
    "Our best prediction accuracy was around 82-83%, our lowest measured prediction accuracy was about 80%. This is not a particularly large spread, especially considering the disparity in the time it takes for some models to train with the Grid Search to find the best hyper-parameters.\n",
    "Two things we'd like to persue in the next week that can help refine the power of our predictions would be: \n",
    "1. A comparison of the time required to train models vs. their predictive power.\n",
    "2. Possibly pursuing some solutions that increase the cost function to mitigate the high occurance of false negatives that we've seen in most of our predictions. It is in the lending body's interest to extend credit to the absolute fewest amount of people that might default on that credit. As it stands, we would be granting too much credit to people that end up not paying back their loans. "
   ]
  }
 ],
 "metadata": {
  "colab": {
   "collapsed_sections": [
    "b1aXPoNSmZxX",
    "3BuOPDwLmZzB",
    "02WV1WWbmZzP",
    "VdNaMJZdmZzY",
    "Jhls0dUSmZza",
    "38aTFc0vmZz7",
    "sXfkNDaVmZ0Y",
    "capqakdfmZ0u",
    "jhlfiO9nmZ0-",
    "M6DXsCuimZ1e"
   ],
   "name": "Project 1 (rough draft).ipynb",
   "provenance": [],
   "version": "0.3.2"
  },
  "kernelspec": {
   "display_name": "Python 3",
   "language": "python",
   "name": "python3"
  },
  "language_info": {
   "codemirror_mode": {
    "name": "ipython",
    "version": 3
   },
   "file_extension": ".py",
   "mimetype": "text/x-python",
   "name": "python",
   "nbconvert_exporter": "python",
   "pygments_lexer": "ipython3",
   "version": "3.6.6"
  }
 },
 "nbformat": 4,
 "nbformat_minor": 1
}
